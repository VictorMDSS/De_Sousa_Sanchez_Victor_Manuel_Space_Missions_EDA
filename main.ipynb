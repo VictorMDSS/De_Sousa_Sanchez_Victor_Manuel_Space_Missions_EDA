{
 "cells": [
  {
   "cell_type": "markdown",
   "id": "1a14a346",
   "metadata": {},
   "source": [
    "Perfect 👍 Here’s your project intro/README in **English**, structured so you can use it both for your **GitHub README.md** and as an **introductory slide deck script**:\n",
    "\n",
    "---\n",
    "\n",
    "# 🚀 Exploratory Data Analysis: Space Missions\n",
    "\n",
    "## 🌌 Introduction\n",
    "\n",
    "Space missions represent one of humanity’s greatest technological and scientific achievements. Analyzing their data allows us to uncover patterns, trends, and factors that have shaped the history of space exploration.\n",
    "\n",
    "This project performs an **Exploratory Data Analysis (EDA)** using **Python in Jupyter Notebook**, with the goal of answering key questions about space launches across decades.\n",
    "\n",
    "---\n",
    "\n",
    "## 🎯 Analysis Goals\n",
    "\n",
    "The EDA aims to generate insights on:\n",
    "\n",
    "1. **Leading Organizations**\n",
    "\n",
    "   * Which organization launched the most missions in a given year?\n",
    "\n",
    "2. **Evolution of Space Activity**\n",
    "\n",
    "   * How many launches were carried out each year?\n",
    "   * Do we see growth, stagnation, or decline?\n",
    "\n",
    "3. **Mission Costs**\n",
    "\n",
    "   * How have mission costs changed over time?\n",
    "   * Are there periods of higher investment?\n",
    "\n",
    "4. **Seasonality of Launches**\n",
    "\n",
    "   * Which months are the most popular for space launches?\n",
    "   * Do temporal patterns emerge?\n",
    "\n",
    "5. **Mission Success and Safety**\n",
    "\n",
    "   * Have missions become safer over time?\n",
    "   * Or has the failure rate remained unchanged?\n",
    "\n",
    "---\n",
    "\n",
    "## 🛠️ Tools & Libraries\n",
    "\n",
    "The analysis will be conducted in **Python**, making use of:\n",
    "\n",
    "* **Pandas** → Data cleaning and manipulation\n",
    "* **Matplotlib & Seaborn** → Static visualizations\n",
    "* **Plotly** → Interactive visualizations\n",
    "* **NumPy** → Numerical operations\n",
    "* **Jupyter Notebook** → Workspace and presentation\n",
    "\n",
    "---\n",
    "\n",
    "## 📊 Expected Visualizations\n",
    "\n",
    "Some of the visual outputs include:\n",
    "\n",
    "* **Bar charts** → Launches by organization and by year\n",
    "* **Time series plots** → Evolution of costs and space activity\n",
    "* **Histograms / heatmaps** → Launch distribution by month\n",
    "* **Pie or donut charts** → Success vs. failure over time\n",
    "\n",
    "---\n",
    "\n",
    "## ✅ Expected Outcomes\n",
    "\n",
    "By the end of the analysis we expect to:\n",
    "\n",
    "* Identify the most influential organizations in the space race.\n",
    "* Understand the evolution of space launches over time.\n",
    "* Reveal how mission costs have shifted through the decades.\n",
    "* Detect seasonal patterns in launch activities.\n",
    "* Analyze the trends in mission safety and reliability.\n",
    "\n",
    "---\n",
    "\n",
    "## 🌠 Conclusion\n",
    "\n",
    "This project provides a **clear and visual overview** of the history of space missions, highlighting how space exploration is not only a technological challenge but also a mirror of humanity’s ambition.\n"
   ]
  },
  {
   "cell_type": "markdown",
   "id": "84264f81",
   "metadata": {},
   "source": [
    "# 1. Import Libraries"
   ]
  },
  {
   "cell_type": "code",
   "execution_count": 87,
   "id": "b06841c4",
   "metadata": {},
   "outputs": [],
   "source": [
    "import pandas as pd \n",
    "import numpy as np\n",
    "\n",
    "import matplotlib.pyplot as plt\n",
    "import seaborn as sns"
   ]
  },
  {
   "cell_type": "markdown",
   "id": "c74b2ffb",
   "metadata": {},
   "source": [
    "# 2. Load the Data"
   ]
  },
  {
   "cell_type": "code",
   "execution_count": 88,
   "id": "37e68914",
   "metadata": {},
   "outputs": [],
   "source": [
    "df_space = pd.read_csv(\"./data/Space_Corrected.csv\")"
   ]
  },
  {
   "cell_type": "code",
   "execution_count": 89,
   "id": "1e9ffb32",
   "metadata": {},
   "outputs": [
    {
     "name": "stdout",
     "output_type": "stream",
     "text": [
      "<class 'pandas.core.frame.DataFrame'>\n",
      "RangeIndex: 4324 entries, 0 to 4323\n",
      "Data columns (total 9 columns):\n",
      " #   Column          Non-Null Count  Dtype \n",
      "---  ------          --------------  ----- \n",
      " 0   Unnamed: 0.1    4324 non-null   int64 \n",
      " 1   Unnamed: 0      4324 non-null   int64 \n",
      " 2   Company Name    4324 non-null   object\n",
      " 3   Location        4324 non-null   object\n",
      " 4   Datum           4324 non-null   object\n",
      " 5   Detail          4324 non-null   object\n",
      " 6   Status Rocket   4324 non-null   object\n",
      " 7    Rocket         964 non-null    object\n",
      " 8   Status Mission  4324 non-null   object\n",
      "dtypes: int64(2), object(7)\n",
      "memory usage: 304.2+ KB\n"
     ]
    }
   ],
   "source": [
    "df_space.info()"
   ]
  },
  {
   "cell_type": "code",
   "execution_count": 90,
   "id": "db36f384",
   "metadata": {},
   "outputs": [
    {
     "data": {
      "text/html": [
       "<div>\n",
       "<style scoped>\n",
       "    .dataframe tbody tr th:only-of-type {\n",
       "        vertical-align: middle;\n",
       "    }\n",
       "\n",
       "    .dataframe tbody tr th {\n",
       "        vertical-align: top;\n",
       "    }\n",
       "\n",
       "    .dataframe thead th {\n",
       "        text-align: right;\n",
       "    }\n",
       "</style>\n",
       "<table border=\"1\" class=\"dataframe\">\n",
       "  <thead>\n",
       "    <tr style=\"text-align: right;\">\n",
       "      <th></th>\n",
       "      <th>Unnamed: 0.1</th>\n",
       "      <th>Unnamed: 0</th>\n",
       "      <th>Company Name</th>\n",
       "      <th>Location</th>\n",
       "      <th>Datum</th>\n",
       "      <th>Detail</th>\n",
       "      <th>Status Rocket</th>\n",
       "      <th>Rocket</th>\n",
       "      <th>Status Mission</th>\n",
       "    </tr>\n",
       "  </thead>\n",
       "  <tbody>\n",
       "    <tr>\n",
       "      <th>0</th>\n",
       "      <td>0</td>\n",
       "      <td>0</td>\n",
       "      <td>SpaceX</td>\n",
       "      <td>LC-39A, Kennedy Space Center, Florida, USA</td>\n",
       "      <td>Fri Aug 07, 2020 05:12 UTC</td>\n",
       "      <td>Falcon 9 Block 5 | Starlink V1 L9 &amp; BlackSky</td>\n",
       "      <td>StatusActive</td>\n",
       "      <td>50.0</td>\n",
       "      <td>Success</td>\n",
       "    </tr>\n",
       "    <tr>\n",
       "      <th>1</th>\n",
       "      <td>1</td>\n",
       "      <td>1</td>\n",
       "      <td>CASC</td>\n",
       "      <td>Site 9401 (SLS-2), Jiuquan Satellite Launch Ce...</td>\n",
       "      <td>Thu Aug 06, 2020 04:01 UTC</td>\n",
       "      <td>Long March 2D | Gaofen-9 04 &amp; Q-SAT</td>\n",
       "      <td>StatusActive</td>\n",
       "      <td>29.75</td>\n",
       "      <td>Success</td>\n",
       "    </tr>\n",
       "    <tr>\n",
       "      <th>2</th>\n",
       "      <td>2</td>\n",
       "      <td>2</td>\n",
       "      <td>SpaceX</td>\n",
       "      <td>Pad A, Boca Chica, Texas, USA</td>\n",
       "      <td>Tue Aug 04, 2020 23:57 UTC</td>\n",
       "      <td>Starship Prototype | 150 Meter Hop</td>\n",
       "      <td>StatusActive</td>\n",
       "      <td>NaN</td>\n",
       "      <td>Success</td>\n",
       "    </tr>\n",
       "    <tr>\n",
       "      <th>3</th>\n",
       "      <td>3</td>\n",
       "      <td>3</td>\n",
       "      <td>Roscosmos</td>\n",
       "      <td>Site 200/39, Baikonur Cosmodrome, Kazakhstan</td>\n",
       "      <td>Thu Jul 30, 2020 21:25 UTC</td>\n",
       "      <td>Proton-M/Briz-M | Ekspress-80 &amp; Ekspress-103</td>\n",
       "      <td>StatusActive</td>\n",
       "      <td>65.0</td>\n",
       "      <td>Success</td>\n",
       "    </tr>\n",
       "    <tr>\n",
       "      <th>4</th>\n",
       "      <td>4</td>\n",
       "      <td>4</td>\n",
       "      <td>ULA</td>\n",
       "      <td>SLC-41, Cape Canaveral AFS, Florida, USA</td>\n",
       "      <td>Thu Jul 30, 2020 11:50 UTC</td>\n",
       "      <td>Atlas V 541 | Perseverance</td>\n",
       "      <td>StatusActive</td>\n",
       "      <td>145.0</td>\n",
       "      <td>Success</td>\n",
       "    </tr>\n",
       "    <tr>\n",
       "      <th>5</th>\n",
       "      <td>5</td>\n",
       "      <td>5</td>\n",
       "      <td>CASC</td>\n",
       "      <td>LC-9, Taiyuan Satellite Launch Center, China</td>\n",
       "      <td>Sat Jul 25, 2020 03:13 UTC</td>\n",
       "      <td>Long March 4B | Ziyuan-3 03, Apocalypse-10 &amp; N...</td>\n",
       "      <td>StatusActive</td>\n",
       "      <td>64.68</td>\n",
       "      <td>Success</td>\n",
       "    </tr>\n",
       "    <tr>\n",
       "      <th>6</th>\n",
       "      <td>6</td>\n",
       "      <td>6</td>\n",
       "      <td>Roscosmos</td>\n",
       "      <td>Site 31/6, Baikonur Cosmodrome, Kazakhstan</td>\n",
       "      <td>Thu Jul 23, 2020 14:26 UTC</td>\n",
       "      <td>Soyuz 2.1a | Progress MS-15</td>\n",
       "      <td>StatusActive</td>\n",
       "      <td>48.5</td>\n",
       "      <td>Success</td>\n",
       "    </tr>\n",
       "    <tr>\n",
       "      <th>7</th>\n",
       "      <td>7</td>\n",
       "      <td>7</td>\n",
       "      <td>CASC</td>\n",
       "      <td>LC-101, Wenchang Satellite Launch Center, China</td>\n",
       "      <td>Thu Jul 23, 2020 04:41 UTC</td>\n",
       "      <td>Long March 5 | Tianwen-1</td>\n",
       "      <td>StatusActive</td>\n",
       "      <td>NaN</td>\n",
       "      <td>Success</td>\n",
       "    </tr>\n",
       "    <tr>\n",
       "      <th>8</th>\n",
       "      <td>8</td>\n",
       "      <td>8</td>\n",
       "      <td>SpaceX</td>\n",
       "      <td>SLC-40, Cape Canaveral AFS, Florida, USA</td>\n",
       "      <td>Mon Jul 20, 2020 21:30 UTC</td>\n",
       "      <td>Falcon 9 Block 5 | ANASIS-II</td>\n",
       "      <td>StatusActive</td>\n",
       "      <td>50.0</td>\n",
       "      <td>Success</td>\n",
       "    </tr>\n",
       "    <tr>\n",
       "      <th>9</th>\n",
       "      <td>9</td>\n",
       "      <td>9</td>\n",
       "      <td>JAXA</td>\n",
       "      <td>LA-Y1, Tanegashima Space Center, Japan</td>\n",
       "      <td>Sun Jul 19, 2020 21:58 UTC</td>\n",
       "      <td>H-IIA 202 | Hope Mars Mission</td>\n",
       "      <td>StatusActive</td>\n",
       "      <td>90.0</td>\n",
       "      <td>Success</td>\n",
       "    </tr>\n",
       "  </tbody>\n",
       "</table>\n",
       "</div>"
      ],
      "text/plain": [
       "   Unnamed: 0.1  Unnamed: 0 Company Name  \\\n",
       "0             0           0       SpaceX   \n",
       "1             1           1         CASC   \n",
       "2             2           2       SpaceX   \n",
       "3             3           3    Roscosmos   \n",
       "4             4           4          ULA   \n",
       "5             5           5         CASC   \n",
       "6             6           6    Roscosmos   \n",
       "7             7           7         CASC   \n",
       "8             8           8       SpaceX   \n",
       "9             9           9         JAXA   \n",
       "\n",
       "                                            Location  \\\n",
       "0         LC-39A, Kennedy Space Center, Florida, USA   \n",
       "1  Site 9401 (SLS-2), Jiuquan Satellite Launch Ce...   \n",
       "2                      Pad A, Boca Chica, Texas, USA   \n",
       "3       Site 200/39, Baikonur Cosmodrome, Kazakhstan   \n",
       "4           SLC-41, Cape Canaveral AFS, Florida, USA   \n",
       "5       LC-9, Taiyuan Satellite Launch Center, China   \n",
       "6         Site 31/6, Baikonur Cosmodrome, Kazakhstan   \n",
       "7    LC-101, Wenchang Satellite Launch Center, China   \n",
       "8           SLC-40, Cape Canaveral AFS, Florida, USA   \n",
       "9             LA-Y1, Tanegashima Space Center, Japan   \n",
       "\n",
       "                        Datum  \\\n",
       "0  Fri Aug 07, 2020 05:12 UTC   \n",
       "1  Thu Aug 06, 2020 04:01 UTC   \n",
       "2  Tue Aug 04, 2020 23:57 UTC   \n",
       "3  Thu Jul 30, 2020 21:25 UTC   \n",
       "4  Thu Jul 30, 2020 11:50 UTC   \n",
       "5  Sat Jul 25, 2020 03:13 UTC   \n",
       "6  Thu Jul 23, 2020 14:26 UTC   \n",
       "7  Thu Jul 23, 2020 04:41 UTC   \n",
       "8  Mon Jul 20, 2020 21:30 UTC   \n",
       "9  Sun Jul 19, 2020 21:58 UTC   \n",
       "\n",
       "                                              Detail Status Rocket  Rocket  \\\n",
       "0       Falcon 9 Block 5 | Starlink V1 L9 & BlackSky  StatusActive   50.0    \n",
       "1                Long March 2D | Gaofen-9 04 & Q-SAT  StatusActive  29.75    \n",
       "2                 Starship Prototype | 150 Meter Hop  StatusActive     NaN   \n",
       "3       Proton-M/Briz-M | Ekspress-80 & Ekspress-103  StatusActive   65.0    \n",
       "4                         Atlas V 541 | Perseverance  StatusActive  145.0    \n",
       "5  Long March 4B | Ziyuan-3 03, Apocalypse-10 & N...  StatusActive  64.68    \n",
       "6                        Soyuz 2.1a | Progress MS-15  StatusActive   48.5    \n",
       "7                           Long March 5 | Tianwen-1  StatusActive     NaN   \n",
       "8                       Falcon 9 Block 5 | ANASIS-II  StatusActive   50.0    \n",
       "9                      H-IIA 202 | Hope Mars Mission  StatusActive   90.0    \n",
       "\n",
       "  Status Mission  \n",
       "0        Success  \n",
       "1        Success  \n",
       "2        Success  \n",
       "3        Success  \n",
       "4        Success  \n",
       "5        Success  \n",
       "6        Success  \n",
       "7        Success  \n",
       "8        Success  \n",
       "9        Success  "
      ]
     },
     "execution_count": 90,
     "metadata": {},
     "output_type": "execute_result"
    }
   ],
   "source": [
    "df_space.head(10)"
   ]
  },
  {
   "cell_type": "markdown",
   "id": "0e256913",
   "metadata": {},
   "source": [
    "# 2. Description of the dataset"
   ]
  },
  {
   "cell_type": "markdown",
   "id": "d864414e",
   "metadata": {},
   "source": [
    "Here let's gonna take a general vision of the datas."
   ]
  },
  {
   "cell_type": "markdown",
   "id": "0287b02a",
   "metadata": {},
   "source": [
    "**Dataset:** All Space Mission from 1957.\n",
    "\n",
    "**Description:** This Dataset contains informations regarding space missions since the beginning of them (1957)\n",
    "\n",
    "**Dates:** 1957 - 2020"
   ]
  },
  {
   "cell_type": "markdown",
   "id": "53596c8a",
   "metadata": {},
   "source": [
    "| Name | Description | Type of the variable | Importance | Notes |\n",
    "|------|-------------|----------------------|------------|-------|\n",
    "| Unnamed: 0-1 | Index | | | |\n",
    "| Unnamed: 0 | Index-2 | | | |\n",
    "| Company Name | Name of the company to make the mission | | | |\n",
    "| Location | Location of the launch | | | |\n",
    "| Datum | Date of the mission | | | |\n",
    "| Detail | Name of the Rocket | | | |\n",
    "| Status Rocket | Active or not? | | | |\n",
    "| Rocket | Cost of the mision (in $ millions) | | | |\n",
    "| Status Mission | Status of the mission (Succes of Failed) | | | |"
   ]
  },
  {
   "cell_type": "code",
   "execution_count": 91,
   "id": "4f970afa",
   "metadata": {},
   "outputs": [
    {
     "data": {
      "text/html": [
       "<div>\n",
       "<style scoped>\n",
       "    .dataframe tbody tr th:only-of-type {\n",
       "        vertical-align: middle;\n",
       "    }\n",
       "\n",
       "    .dataframe tbody tr th {\n",
       "        vertical-align: top;\n",
       "    }\n",
       "\n",
       "    .dataframe thead th {\n",
       "        text-align: right;\n",
       "    }\n",
       "</style>\n",
       "<table border=\"1\" class=\"dataframe\">\n",
       "  <thead>\n",
       "    <tr style=\"text-align: right;\">\n",
       "      <th></th>\n",
       "      <th>Card</th>\n",
       "      <th>%_Card</th>\n",
       "      <th>Type</th>\n",
       "    </tr>\n",
       "  </thead>\n",
       "  <tbody>\n",
       "    <tr>\n",
       "      <th>Unnamed: 0.1</th>\n",
       "      <td>4324</td>\n",
       "      <td>100.0</td>\n",
       "      <td>int64</td>\n",
       "    </tr>\n",
       "    <tr>\n",
       "      <th>Unnamed: 0</th>\n",
       "      <td>4324</td>\n",
       "      <td>100.0</td>\n",
       "      <td>int64</td>\n",
       "    </tr>\n",
       "    <tr>\n",
       "      <th>Company Name</th>\n",
       "      <td>56</td>\n",
       "      <td>1.295097</td>\n",
       "      <td>object</td>\n",
       "    </tr>\n",
       "    <tr>\n",
       "      <th>Location</th>\n",
       "      <td>137</td>\n",
       "      <td>3.168363</td>\n",
       "      <td>object</td>\n",
       "    </tr>\n",
       "    <tr>\n",
       "      <th>Datum</th>\n",
       "      <td>4319</td>\n",
       "      <td>99.884366</td>\n",
       "      <td>object</td>\n",
       "    </tr>\n",
       "    <tr>\n",
       "      <th>Detail</th>\n",
       "      <td>4278</td>\n",
       "      <td>98.93617</td>\n",
       "      <td>object</td>\n",
       "    </tr>\n",
       "    <tr>\n",
       "      <th>Status Rocket</th>\n",
       "      <td>2</td>\n",
       "      <td>0.046253</td>\n",
       "      <td>object</td>\n",
       "    </tr>\n",
       "    <tr>\n",
       "      <th>Rocket</th>\n",
       "      <td>56</td>\n",
       "      <td>1.295097</td>\n",
       "      <td>object</td>\n",
       "    </tr>\n",
       "    <tr>\n",
       "      <th>Status Mission</th>\n",
       "      <td>4</td>\n",
       "      <td>0.092507</td>\n",
       "      <td>object</td>\n",
       "    </tr>\n",
       "  </tbody>\n",
       "</table>\n",
       "</div>"
      ],
      "text/plain": [
       "                Card     %_Card    Type\n",
       "Unnamed: 0.1    4324      100.0   int64\n",
       "Unnamed: 0      4324      100.0   int64\n",
       "Company Name      56   1.295097  object\n",
       "Location         137   3.168363  object\n",
       "Datum           4319  99.884366  object\n",
       "Detail          4278   98.93617  object\n",
       "Status Rocket      2   0.046253  object\n",
       " Rocket           56   1.295097  object\n",
       "Status Mission     4   0.092507  object"
      ]
     },
     "execution_count": 91,
     "metadata": {},
     "output_type": "execute_result"
    }
   ],
   "source": [
    "#Tipification\n",
    "\n",
    "df_tipification = pd.DataFrame([df_space.nunique(), df_space.nunique()/len(df_space) * 100, df_space.dtypes]).T.rename(columns={0: \"Card\", \n",
    "                                                                                                                                1: \"%_Card\",\n",
    "                                                                                                                                2: \"Type\"})\n",
    "\n",
    "df_tipification"
   ]
  },
  {
   "cell_type": "code",
   "execution_count": 92,
   "id": "3659888b",
   "metadata": {},
   "outputs": [
    {
     "data": {
      "text/html": [
       "<div>\n",
       "<style scoped>\n",
       "    .dataframe tbody tr th:only-of-type {\n",
       "        vertical-align: middle;\n",
       "    }\n",
       "\n",
       "    .dataframe tbody tr th {\n",
       "        vertical-align: top;\n",
       "    }\n",
       "\n",
       "    .dataframe thead th {\n",
       "        text-align: right;\n",
       "    }\n",
       "</style>\n",
       "<table border=\"1\" class=\"dataframe\">\n",
       "  <thead>\n",
       "    <tr style=\"text-align: right;\">\n",
       "      <th></th>\n",
       "      <th>Card</th>\n",
       "      <th>%_Card</th>\n",
       "      <th>Type</th>\n",
       "      <th>Classified_like</th>\n",
       "    </tr>\n",
       "  </thead>\n",
       "  <tbody>\n",
       "    <tr>\n",
       "      <th>Unnamed: 0.1</th>\n",
       "      <td>4324</td>\n",
       "      <td>100.0</td>\n",
       "      <td>int64</td>\n",
       "      <td>Continuos Numerical</td>\n",
       "    </tr>\n",
       "    <tr>\n",
       "      <th>Unnamed: 0</th>\n",
       "      <td>4324</td>\n",
       "      <td>100.0</td>\n",
       "      <td>int64</td>\n",
       "      <td>Continuos Numerical</td>\n",
       "    </tr>\n",
       "    <tr>\n",
       "      <th>Company Name</th>\n",
       "      <td>56</td>\n",
       "      <td>1.295097</td>\n",
       "      <td>object</td>\n",
       "      <td>Discret Numerical</td>\n",
       "    </tr>\n",
       "    <tr>\n",
       "      <th>Location</th>\n",
       "      <td>137</td>\n",
       "      <td>3.168363</td>\n",
       "      <td>object</td>\n",
       "      <td>Discret Numerical</td>\n",
       "    </tr>\n",
       "    <tr>\n",
       "      <th>Datum</th>\n",
       "      <td>4319</td>\n",
       "      <td>99.884366</td>\n",
       "      <td>object</td>\n",
       "      <td>Continuos Numerical</td>\n",
       "    </tr>\n",
       "    <tr>\n",
       "      <th>Detail</th>\n",
       "      <td>4278</td>\n",
       "      <td>98.93617</td>\n",
       "      <td>object</td>\n",
       "      <td>Continuos Numerical</td>\n",
       "    </tr>\n",
       "    <tr>\n",
       "      <th>Status Rocket</th>\n",
       "      <td>2</td>\n",
       "      <td>0.046253</td>\n",
       "      <td>object</td>\n",
       "      <td>Binari</td>\n",
       "    </tr>\n",
       "    <tr>\n",
       "      <th>Rocket</th>\n",
       "      <td>56</td>\n",
       "      <td>1.295097</td>\n",
       "      <td>object</td>\n",
       "      <td>Discret Numerical</td>\n",
       "    </tr>\n",
       "    <tr>\n",
       "      <th>Status Mission</th>\n",
       "      <td>4</td>\n",
       "      <td>0.092507</td>\n",
       "      <td>object</td>\n",
       "      <td>Categorical</td>\n",
       "    </tr>\n",
       "  </tbody>\n",
       "</table>\n",
       "</div>"
      ],
      "text/plain": [
       "                Card     %_Card    Type      Classified_like\n",
       "Unnamed: 0.1    4324      100.0   int64  Continuos Numerical\n",
       "Unnamed: 0      4324      100.0   int64  Continuos Numerical\n",
       "Company Name      56   1.295097  object    Discret Numerical\n",
       "Location         137   3.168363  object    Discret Numerical\n",
       "Datum           4319  99.884366  object  Continuos Numerical\n",
       "Detail          4278   98.93617  object  Continuos Numerical\n",
       "Status Rocket      2   0.046253  object               Binari\n",
       " Rocket           56   1.295097  object    Discret Numerical\n",
       "Status Mission     4   0.092507  object          Categorical"
      ]
     },
     "execution_count": 92,
     "metadata": {},
     "output_type": "execute_result"
    }
   ],
   "source": [
    "#Types of the features\n",
    "\n",
    "df_tipification[\"Classified_like\"] = \"Categorical\"\n",
    "df_tipification.loc[df_tipification.Card == 2, \"Classified_like\"] = \"Binari\"\n",
    "df_tipification.loc[df_tipification[\"Card\"] > 10, \"Classified_like\"] = \"Discret Numerical\"\n",
    "df_tipification.loc[df_tipification[\"%_Card\"] > 30, \"Classified_like\"] = \"Continuos Numerical\"\n",
    "df_tipification"
   ]
  },
  {
   "cell_type": "markdown",
   "id": "bf58d59f",
   "metadata": {},
   "source": [
    "Whit this critery, let gonna mark the importance of the variables. \n",
    "\n",
    "Importance: **target/principal (0), important agrupation (1), interesting agrupation (2), second agrupation (3).**"
   ]
  },
  {
   "cell_type": "markdown",
   "id": "69aa8f50",
   "metadata": {},
   "source": [
    "| Name | Description | Type of the variable | Importance | Notes |\n",
    "|------|-------------|----------------------|------------|-------|\n",
    "| Unnamed: 0-1 | Index | Continuos Numerical | - | |\n",
    "| Unnamed: 0 | Index-2 | Continuos Numerical | - | |\n",
    "| Company Name | Name of the company to make the mission | Dicret Categorical | 1 | |\n",
    "| Location | Location of the launch | Discret Categorical | 2 | |\n",
    "| Datum | Date of the mission | DateTime | 2 | |\n",
    "| Detail | Name of the Rocket | Continuos Categorical | 3 | |\n",
    "| Status Rocket | Active or not? | Binari | 1 | |\n",
    "| Rocket | Cost of the mision (in $ millions) | Discret Numerical | - | |\n",
    "| Status Mission | Status of the mission (Succes of Failed) | Categorical | 0 | |"
   ]
  },
  {
   "cell_type": "markdown",
   "id": "923e8df9",
   "metadata": {},
   "source": [
    "# 3. Cleaning and Transform Data"
   ]
  },
  {
   "cell_type": "code",
   "execution_count": 93,
   "id": "ce124fcf",
   "metadata": {},
   "outputs": [
    {
     "data": {
      "text/plain": [
       "Unnamed: 0.1         0\n",
       "Unnamed: 0           0\n",
       "Company Name         0\n",
       "Location             0\n",
       "Datum                0\n",
       "Detail               0\n",
       "Status Rocket        0\n",
       " Rocket           3360\n",
       "Status Mission       0\n",
       "dtype: int64"
      ]
     },
     "execution_count": 93,
     "metadata": {},
     "output_type": "execute_result"
    }
   ],
   "source": [
    "#Comprobation of Nulls\n",
    "\n",
    "df_space.isnull().sum()"
   ]
  },
  {
   "cell_type": "code",
   "execution_count": 94,
   "id": "3cf75e02",
   "metadata": {},
   "outputs": [
    {
     "name": "stdout",
     "output_type": "stream",
     "text": [
      "<class 'pandas.core.frame.DataFrame'>\n",
      "RangeIndex: 4324 entries, 0 to 4323\n",
      "Data columns (total 9 columns):\n",
      " #   Column          Non-Null Count  Dtype  \n",
      "---  ------          --------------  -----  \n",
      " 0   Unnamed: 0.1    4324 non-null   int64  \n",
      " 1   Unnamed: 0      4324 non-null   int64  \n",
      " 2   Company Name    4324 non-null   object \n",
      " 3   Location        4324 non-null   object \n",
      " 4   Datum           4324 non-null   object \n",
      " 5   Detail          4324 non-null   object \n",
      " 6   Status Rocket   4324 non-null   object \n",
      " 7    Rocket         949 non-null    float64\n",
      " 8   Status Mission  4324 non-null   object \n",
      "dtypes: float64(1), int64(2), object(6)\n",
      "memory usage: 304.2+ KB\n"
     ]
    }
   ],
   "source": [
    "df_space[\" Rocket\"] = df_space[\" Rocket\"].str.strip()\n",
    "df_space[\" Rocket\"] = pd.to_numeric(df_space[\" Rocket\"], errors=\"coerce\")\n",
    "df_space.info()"
   ]
  },
  {
   "cell_type": "markdown",
   "id": "709a029b",
   "metadata": {},
   "source": [
    "Okay. Let's gonna drop that column and the others useless features."
   ]
  },
  {
   "cell_type": "code",
   "execution_count": 95,
   "id": "c273401b",
   "metadata": {},
   "outputs": [
    {
     "name": "stdout",
     "output_type": "stream",
     "text": [
      "<class 'pandas.core.frame.DataFrame'>\n",
      "RangeIndex: 4324 entries, 0 to 4323\n",
      "Data columns (total 6 columns):\n",
      " #   Column          Non-Null Count  Dtype \n",
      "---  ------          --------------  ----- \n",
      " 0   Company Name    4324 non-null   object\n",
      " 1   Location        4324 non-null   object\n",
      " 2   Datum           4324 non-null   object\n",
      " 3   Detail          4324 non-null   object\n",
      " 4   Status Rocket   4324 non-null   object\n",
      " 5   Status Mission  4324 non-null   object\n",
      "dtypes: object(6)\n",
      "memory usage: 202.8+ KB\n"
     ]
    }
   ],
   "source": [
    "df_space.drop([\"Unnamed: 0.1\", \"Unnamed: 0\", \" Rocket\"], inplace=True, axis=1)\n",
    "df_space.info()"
   ]
  },
  {
   "cell_type": "markdown",
   "id": "863e8cc9",
   "metadata": {},
   "source": [
    "OKay. Now the NaN leaves, let's watch this Datum."
   ]
  },
  {
   "cell_type": "code",
   "execution_count": 96,
   "id": "aacfdb03",
   "metadata": {},
   "outputs": [
    {
     "name": "stdout",
     "output_type": "stream",
     "text": [
      "<class 'pandas.core.series.Series'>\n",
      "RangeIndex: 4324 entries, 0 to 4323\n",
      "Series name: Datum\n",
      "Non-Null Count  Dtype \n",
      "--------------  ----- \n",
      "4324 non-null   object\n",
      "dtypes: object(1)\n",
      "memory usage: 33.9+ KB\n"
     ]
    }
   ],
   "source": [
    "df_space.Datum.info()"
   ]
  },
  {
   "cell_type": "markdown",
   "id": "47ddfe2a",
   "metadata": {},
   "source": [
    "Mmm. It's an object. Let's gonna change that."
   ]
  },
  {
   "cell_type": "code",
   "execution_count": 97,
   "id": "c33d378d",
   "metadata": {},
   "outputs": [
    {
     "name": "stdout",
     "output_type": "stream",
     "text": [
      "<class 'pandas.core.frame.DataFrame'>\n",
      "RangeIndex: 4324 entries, 0 to 4323\n",
      "Data columns (total 7 columns):\n",
      " #   Column          Non-Null Count  Dtype              \n",
      "---  ------          --------------  -----              \n",
      " 0   Company Name    4324 non-null   object             \n",
      " 1   Location        4324 non-null   object             \n",
      " 2   Datum           4324 non-null   object             \n",
      " 3   Detail          4324 non-null   object             \n",
      " 4   Status Rocket   4324 non-null   object             \n",
      " 5   Status Mission  4324 non-null   object             \n",
      " 6   Dates           4324 non-null   datetime64[ns, UTC]\n",
      "dtypes: datetime64[ns, UTC](1), object(6)\n",
      "memory usage: 236.6+ KB\n"
     ]
    }
   ],
   "source": [
    "df_space[\"Dates\"] = pd.to_datetime(df_space[\"Datum\"], format = \"mixed\", utc=True)\n",
    "df_space.info()"
   ]
  },
  {
   "cell_type": "code",
   "execution_count": 98,
   "id": "ff54ec91",
   "metadata": {},
   "outputs": [
    {
     "name": "stdout",
     "output_type": "stream",
     "text": [
      "<class 'pandas.core.frame.DataFrame'>\n",
      "RangeIndex: 4324 entries, 0 to 4323\n",
      "Data columns (total 6 columns):\n",
      " #   Column          Non-Null Count  Dtype              \n",
      "---  ------          --------------  -----              \n",
      " 0   Company Name    4324 non-null   object             \n",
      " 1   Location        4324 non-null   object             \n",
      " 2   Detail          4324 non-null   object             \n",
      " 3   Status Rocket   4324 non-null   object             \n",
      " 4   Status Mission  4324 non-null   object             \n",
      " 5   Dates           4324 non-null   datetime64[ns, UTC]\n",
      "dtypes: datetime64[ns, UTC](1), object(5)\n",
      "memory usage: 202.8+ KB\n"
     ]
    }
   ],
   "source": [
    "df_space.drop(\"Datum\", inplace=True, axis=1)\n",
    "df_space.reset_index()\n",
    "df_space.info()"
   ]
  },
  {
   "cell_type": "code",
   "execution_count": 99,
   "id": "6515b668",
   "metadata": {},
   "outputs": [
    {
     "data": {
      "text/plain": [
       "0           LC-39A, Kennedy Space Center, Florida, USA\n",
       "1    Site 9401 (SLS-2), Jiuquan Satellite Launch Ce...\n",
       "2                        Pad A, Boca Chica, Texas, USA\n",
       "3         Site 200/39, Baikonur Cosmodrome, Kazakhstan\n",
       "4             SLC-41, Cape Canaveral AFS, Florida, USA\n",
       "Name: Location, dtype: object"
      ]
     },
     "execution_count": 99,
     "metadata": {},
     "output_type": "execute_result"
    }
   ],
   "source": [
    "# Let's take a look to the Location column\n",
    "\n",
    "df_space[\"Location\"].head()"
   ]
  },
  {
   "cell_type": "markdown",
   "id": "244cfe6b",
   "metadata": {},
   "source": [
    "To much information. If it was only the country, better. Let's will change that."
   ]
  },
  {
   "cell_type": "code",
   "execution_count": 100,
   "id": "c8b3702d",
   "metadata": {},
   "outputs": [
    {
     "data": {
      "text/plain": [
       "0           USA\n",
       "1         China\n",
       "2           USA\n",
       "3    Kazakhstan\n",
       "4           USA\n",
       "Name: Location, dtype: object"
      ]
     },
     "execution_count": 100,
     "metadata": {},
     "output_type": "execute_result"
    }
   ],
   "source": [
    "#Extract the Location only in Countrys\n",
    "df_space[\"Location\"] = df_space[\"Location\"].apply(lambda x: str(x).split(\",\")[-1].strip())\n",
    "df_space[\"Location\"].head()"
   ]
  },
  {
   "cell_type": "markdown",
   "id": "671a3ba8",
   "metadata": {},
   "source": [
    "Okay. Now we got Dates, Companys and more. Is time to make an analysis."
   ]
  },
  {
   "cell_type": "markdown",
   "id": "e336a41e",
   "metadata": {},
   "source": [
    "# 4. Univariant Analysis"
   ]
  },
  {
   "cell_type": "markdown",
   "id": "d2f87bbd",
   "metadata": {},
   "source": [
    "### 4.1 Categorical Features"
   ]
  },
  {
   "cell_type": "code",
   "execution_count": 101,
   "id": "b6360136",
   "metadata": {},
   "outputs": [
    {
     "name": "stdout",
     "output_type": "stream",
     "text": [
      "Number of Companys:  56\n",
      "Number of the Location launch:  22\n"
     ]
    }
   ],
   "source": [
    "#Number of Companys\n",
    "number_companys = df_space[\"Company Name\"].nunique()\n",
    "print(\"Number of Companys: \", number_companys)\n",
    "\n",
    "#Number of Locations\n",
    "number_locations = df_space[\"Location\"].nunique()\n",
    "print(\"Number of the Location launch: \", number_locations)"
   ]
  },
  {
   "cell_type": "code",
   "execution_count": 102,
   "id": "b6a925bb",
   "metadata": {},
   "outputs": [
    {
     "data": {
      "text/html": [
       "<div>\n",
       "<style scoped>\n",
       "    .dataframe tbody tr th:only-of-type {\n",
       "        vertical-align: middle;\n",
       "    }\n",
       "\n",
       "    .dataframe tbody tr th {\n",
       "        vertical-align: top;\n",
       "    }\n",
       "\n",
       "    .dataframe thead th {\n",
       "        text-align: right;\n",
       "    }\n",
       "</style>\n",
       "<table border=\"1\" class=\"dataframe\">\n",
       "  <thead>\n",
       "    <tr style=\"text-align: right;\">\n",
       "      <th></th>\n",
       "      <th>0</th>\n",
       "    </tr>\n",
       "  </thead>\n",
       "  <tbody>\n",
       "    <tr>\n",
       "      <th>Company Name</th>\n",
       "      <td>RVSN USSR</td>\n",
       "    </tr>\n",
       "    <tr>\n",
       "      <th>Location</th>\n",
       "      <td>Russia</td>\n",
       "    </tr>\n",
       "    <tr>\n",
       "      <th>Detail</th>\n",
       "      <td>Cosmos-3MRB (65MRB) | BOR-5 Shuttle</td>\n",
       "    </tr>\n",
       "    <tr>\n",
       "      <th>Status Mission</th>\n",
       "      <td>Success</td>\n",
       "    </tr>\n",
       "    <tr>\n",
       "      <th>Status Rocket</th>\n",
       "      <td>StatusRetired</td>\n",
       "    </tr>\n",
       "  </tbody>\n",
       "</table>\n",
       "</div>"
      ],
      "text/plain": [
       "                                                  0\n",
       "Company Name                              RVSN USSR\n",
       "Location                                     Russia\n",
       "Detail          Cosmos-3MRB (65MRB) | BOR-5 Shuttle\n",
       "Status Mission                              Success\n",
       "Status Rocket                         StatusRetired"
      ]
     },
     "execution_count": 102,
     "metadata": {},
     "output_type": "execute_result"
    }
   ],
   "source": [
    "# A little comprobation\n",
    "\n",
    "categories = [\n",
    "    \"Company Name\",\n",
    "    \"Location\",\n",
    "    \"Detail\",\n",
    "    \"Status Mission\",\n",
    "    \"Status Rocket\"\n",
    "]\n",
    "\n",
    "df_space[categories].mode().T"
   ]
  },
  {
   "cell_type": "code",
   "execution_count": null,
   "id": "e29381a4",
   "metadata": {},
   "outputs": [],
   "source": []
  }
 ],
 "metadata": {
  "kernelspec": {
   "display_name": "Python 3",
   "language": "python",
   "name": "python3"
  },
  "language_info": {
   "codemirror_mode": {
    "name": "ipython",
    "version": 3
   },
   "file_extension": ".py",
   "mimetype": "text/x-python",
   "name": "python",
   "nbconvert_exporter": "python",
   "pygments_lexer": "ipython3",
   "version": "3.12.4"
  }
 },
 "nbformat": 4,
 "nbformat_minor": 5
}
